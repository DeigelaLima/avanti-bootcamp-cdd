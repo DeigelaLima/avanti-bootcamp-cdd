{
 "cells": [
  {
   "cell_type": "markdown",
   "metadata": {},
   "source": [
    "# EXERCÍCIO DE ESTATíSTICA DESCRITIVA"
   ]
  },
  {
   "cell_type": "markdown",
   "metadata": {},
   "source": [
    "### Tópicos abordados no exercício\n",
    "* Carregar conjunto de dados - **Gorjetas (tips)**;\n",
    "* Criar dicionário de dados;\n",
    "* Descrever os dados usando estatística de tendência central e dispersão;\n",
    "* Calcular estatística de forma separada para cada variável categórica."
   ]
  },
  {
   "cell_type": "code",
   "execution_count": 19,
   "metadata": {},
   "outputs": [],
   "source": [
    "# !pip install seaborn\n",
    "from IPython.display import Markdown\n",
    "import pandas as pd\n",
    "import seaborn as sns\n",
    "import matplotlib.pyplot as plt"
   ]
  },
  {
   "cell_type": "markdown",
   "metadata": {},
   "source": [
    "### Conjunto de dados"
   ]
  },
  {
   "cell_type": "code",
   "execution_count": 24,
   "metadata": {},
   "outputs": [
    {
     "data": {
      "text/markdown": [
       "### Gorjetas dataset"
      ],
      "text/plain": [
       "<IPython.core.display.Markdown object>"
      ]
     },
     "metadata": {},
     "output_type": "display_data"
    },
    {
     "data": {
      "text/html": [
       "<div>\n",
       "<style scoped>\n",
       "    .dataframe tbody tr th:only-of-type {\n",
       "        vertical-align: middle;\n",
       "    }\n",
       "\n",
       "    .dataframe tbody tr th {\n",
       "        vertical-align: top;\n",
       "    }\n",
       "\n",
       "    .dataframe thead th {\n",
       "        text-align: right;\n",
       "    }\n",
       "</style>\n",
       "<table border=\"1\" class=\"dataframe\">\n",
       "  <thead>\n",
       "    <tr style=\"text-align: right;\">\n",
       "      <th></th>\n",
       "      <th>total_bill</th>\n",
       "      <th>tip</th>\n",
       "      <th>sex</th>\n",
       "      <th>smoker</th>\n",
       "      <th>day</th>\n",
       "      <th>time</th>\n",
       "      <th>size</th>\n",
       "    </tr>\n",
       "  </thead>\n",
       "  <tbody>\n",
       "    <tr>\n",
       "      <th>0</th>\n",
       "      <td>16.99</td>\n",
       "      <td>1.01</td>\n",
       "      <td>Female</td>\n",
       "      <td>No</td>\n",
       "      <td>Sun</td>\n",
       "      <td>Dinner</td>\n",
       "      <td>2</td>\n",
       "    </tr>\n",
       "    <tr>\n",
       "      <th>1</th>\n",
       "      <td>10.34</td>\n",
       "      <td>1.66</td>\n",
       "      <td>Male</td>\n",
       "      <td>No</td>\n",
       "      <td>Sun</td>\n",
       "      <td>Dinner</td>\n",
       "      <td>3</td>\n",
       "    </tr>\n",
       "    <tr>\n",
       "      <th>2</th>\n",
       "      <td>21.01</td>\n",
       "      <td>3.50</td>\n",
       "      <td>Male</td>\n",
       "      <td>No</td>\n",
       "      <td>Sun</td>\n",
       "      <td>Dinner</td>\n",
       "      <td>3</td>\n",
       "    </tr>\n",
       "    <tr>\n",
       "      <th>3</th>\n",
       "      <td>23.68</td>\n",
       "      <td>3.31</td>\n",
       "      <td>Male</td>\n",
       "      <td>No</td>\n",
       "      <td>Sun</td>\n",
       "      <td>Dinner</td>\n",
       "      <td>2</td>\n",
       "    </tr>\n",
       "    <tr>\n",
       "      <th>4</th>\n",
       "      <td>24.59</td>\n",
       "      <td>3.61</td>\n",
       "      <td>Female</td>\n",
       "      <td>No</td>\n",
       "      <td>Sun</td>\n",
       "      <td>Dinner</td>\n",
       "      <td>4</td>\n",
       "    </tr>\n",
       "  </tbody>\n",
       "</table>\n",
       "</div>"
      ],
      "text/plain": [
       "   total_bill   tip     sex smoker  day    time  size\n",
       "0       16.99  1.01  Female     No  Sun  Dinner     2\n",
       "1       10.34  1.66    Male     No  Sun  Dinner     3\n",
       "2       21.01  3.50    Male     No  Sun  Dinner     3\n",
       "3       23.68  3.31    Male     No  Sun  Dinner     2\n",
       "4       24.59  3.61  Female     No  Sun  Dinner     4"
      ]
     },
     "metadata": {},
     "output_type": "display_data"
    },
    {
     "data": {
      "text/markdown": [
       "### Explorando os dados"
      ],
      "text/plain": [
       "<IPython.core.display.Markdown object>"
      ]
     },
     "metadata": {},
     "output_type": "display_data"
    },
    {
     "name": "stdout",
     "output_type": "stream",
     "text": [
      "<class 'pandas.core.frame.DataFrame'>\n",
      "RangeIndex: 244 entries, 0 to 243\n",
      "Data columns (total 7 columns):\n",
      " #   Column      Non-Null Count  Dtype   \n",
      "---  ------      --------------  -----   \n",
      " 0   total_bill  244 non-null    float64 \n",
      " 1   tip         244 non-null    float64 \n",
      " 2   sex         244 non-null    category\n",
      " 3   smoker      244 non-null    category\n",
      " 4   day         244 non-null    category\n",
      " 5   time        244 non-null    category\n",
      " 6   size        244 non-null    int64   \n",
      "dtypes: category(4), float64(2), int64(1)\n",
      "memory usage: 7.4 KB\n"
     ]
    },
    {
     "data": {
      "text/markdown": [
       "### Estatísticas descritivas"
      ],
      "text/plain": [
       "<IPython.core.display.Markdown object>"
      ]
     },
     "metadata": {},
     "output_type": "display_data"
    },
    {
     "data": {
      "text/html": [
       "<div>\n",
       "<style scoped>\n",
       "    .dataframe tbody tr th:only-of-type {\n",
       "        vertical-align: middle;\n",
       "    }\n",
       "\n",
       "    .dataframe tbody tr th {\n",
       "        vertical-align: top;\n",
       "    }\n",
       "\n",
       "    .dataframe thead th {\n",
       "        text-align: right;\n",
       "    }\n",
       "</style>\n",
       "<table border=\"1\" class=\"dataframe\">\n",
       "  <thead>\n",
       "    <tr style=\"text-align: right;\">\n",
       "      <th></th>\n",
       "      <th>total_bill</th>\n",
       "      <th>tip</th>\n",
       "      <th>size</th>\n",
       "    </tr>\n",
       "  </thead>\n",
       "  <tbody>\n",
       "    <tr>\n",
       "      <th>count</th>\n",
       "      <td>244.000000</td>\n",
       "      <td>244.000000</td>\n",
       "      <td>244.000000</td>\n",
       "    </tr>\n",
       "    <tr>\n",
       "      <th>mean</th>\n",
       "      <td>19.785943</td>\n",
       "      <td>2.998279</td>\n",
       "      <td>2.569672</td>\n",
       "    </tr>\n",
       "    <tr>\n",
       "      <th>std</th>\n",
       "      <td>8.902412</td>\n",
       "      <td>1.383638</td>\n",
       "      <td>0.951100</td>\n",
       "    </tr>\n",
       "    <tr>\n",
       "      <th>min</th>\n",
       "      <td>3.070000</td>\n",
       "      <td>1.000000</td>\n",
       "      <td>1.000000</td>\n",
       "    </tr>\n",
       "    <tr>\n",
       "      <th>25%</th>\n",
       "      <td>13.347500</td>\n",
       "      <td>2.000000</td>\n",
       "      <td>2.000000</td>\n",
       "    </tr>\n",
       "    <tr>\n",
       "      <th>50%</th>\n",
       "      <td>17.795000</td>\n",
       "      <td>2.900000</td>\n",
       "      <td>2.000000</td>\n",
       "    </tr>\n",
       "    <tr>\n",
       "      <th>75%</th>\n",
       "      <td>24.127500</td>\n",
       "      <td>3.562500</td>\n",
       "      <td>3.000000</td>\n",
       "    </tr>\n",
       "    <tr>\n",
       "      <th>max</th>\n",
       "      <td>50.810000</td>\n",
       "      <td>10.000000</td>\n",
       "      <td>6.000000</td>\n",
       "    </tr>\n",
       "  </tbody>\n",
       "</table>\n",
       "</div>"
      ],
      "text/plain": [
       "       total_bill         tip        size\n",
       "count  244.000000  244.000000  244.000000\n",
       "mean    19.785943    2.998279    2.569672\n",
       "std      8.902412    1.383638    0.951100\n",
       "min      3.070000    1.000000    1.000000\n",
       "25%     13.347500    2.000000    2.000000\n",
       "50%     17.795000    2.900000    2.000000\n",
       "75%     24.127500    3.562500    3.000000\n",
       "max     50.810000   10.000000    6.000000"
      ]
     },
     "metadata": {},
     "output_type": "display_data"
    }
   ],
   "source": [
    "# Carregar conjunto de dados\n",
    "df_tips = sns.load_dataset('tips')\n",
    "display(Markdown(\"### Gorjetas dataset\"))\n",
    "display(df_tips.head())\n",
    "\n",
    "display(Markdown(\"### Explorando os dados\"))\n",
    "df_tips.info()\n",
    "\n",
    "display(Markdown(\"### Estatísticas descritivas\"))\n",
    "display(df_tips.describe())"
   ]
  },
  {
   "cell_type": "markdown",
   "metadata": {},
   "source": [
    "### Dicionário de dados"
   ]
  },
  {
   "cell_type": "code",
   "execution_count": 30,
   "metadata": {},
   "outputs": [
    {
     "data": {
      "text/html": [
       "<div>\n",
       "<style scoped>\n",
       "    .dataframe tbody tr th:only-of-type {\n",
       "        vertical-align: middle;\n",
       "    }\n",
       "\n",
       "    .dataframe tbody tr th {\n",
       "        vertical-align: top;\n",
       "    }\n",
       "\n",
       "    .dataframe thead th {\n",
       "        text-align: right;\n",
       "    }\n",
       "</style>\n",
       "<table border=\"1\" class=\"dataframe\">\n",
       "  <thead>\n",
       "    <tr style=\"text-align: right;\">\n",
       "      <th></th>\n",
       "      <th>variavel</th>\n",
       "      <th>descricao</th>\n",
       "      <th>tipo</th>\n",
       "      <th>subtipo</th>\n",
       "    </tr>\n",
       "  </thead>\n",
       "  <tbody>\n",
       "    <tr>\n",
       "      <th>0</th>\n",
       "      <td>total_bill</td>\n",
       "      <td>valor da comanda</td>\n",
       "      <td>quantitativo</td>\n",
       "      <td>contínuo</td>\n",
       "    </tr>\n",
       "    <tr>\n",
       "      <th>1</th>\n",
       "      <td>tip</td>\n",
       "      <td>gorjeta</td>\n",
       "      <td>quantitativo</td>\n",
       "      <td>contínuo</td>\n",
       "    </tr>\n",
       "    <tr>\n",
       "      <th>2</th>\n",
       "      <td>sex</td>\n",
       "      <td>gênero do consumidor</td>\n",
       "      <td>qualitativo</td>\n",
       "      <td>nominal</td>\n",
       "    </tr>\n",
       "    <tr>\n",
       "      <th>3</th>\n",
       "      <td>smoker</td>\n",
       "      <td>se é fumante</td>\n",
       "      <td>qualitativo</td>\n",
       "      <td>nominal</td>\n",
       "    </tr>\n",
       "    <tr>\n",
       "      <th>4</th>\n",
       "      <td>day</td>\n",
       "      <td>dia da semana</td>\n",
       "      <td>qualitativo</td>\n",
       "      <td>ordinal</td>\n",
       "    </tr>\n",
       "    <tr>\n",
       "      <th>5</th>\n",
       "      <td>dime</td>\n",
       "      <td>horário da refeição</td>\n",
       "      <td>qualitativo</td>\n",
       "      <td>ordinal</td>\n",
       "    </tr>\n",
       "    <tr>\n",
       "      <th>6</th>\n",
       "      <td>size</td>\n",
       "      <td>lugares na mesa</td>\n",
       "      <td>quantitativo</td>\n",
       "      <td>discreto</td>\n",
       "    </tr>\n",
       "  </tbody>\n",
       "</table>\n",
       "</div>"
      ],
      "text/plain": [
       "     variavel             descricao          tipo   subtipo\n",
       "0  total_bill      valor da comanda  quantitativo  contínuo\n",
       "1         tip               gorjeta  quantitativo  contínuo\n",
       "2         sex  gênero do consumidor   qualitativo   nominal\n",
       "3      smoker          se é fumante   qualitativo   nominal\n",
       "4         day         dia da semana   qualitativo   ordinal\n",
       "5        dime   horário da refeição   qualitativo   ordinal\n",
       "6        size       lugares na mesa  quantitativo  discreto"
      ]
     },
     "execution_count": 30,
     "metadata": {},
     "output_type": "execute_result"
    }
   ],
   "source": [
    "# Criando dicionário de dados\n",
    "\n",
    "df_dict = pd.DataFrame([\n",
    "    {\n",
    "        \"variavel\": \"total_bill\",\n",
    "        \"descricao\": \"valor da comanda\",\n",
    "        \"tipo\": \"quantitativo\",\n",
    "        \"subtipo\": \"contínuo\"\n",
    "    },{\n",
    "        \"variavel\": \"tip\",\n",
    "        \"descricao\": \"gorjeta\",\n",
    "        \"tipo\": \"quantitativo\",\n",
    "        \"subtipo\": \"contínuo\"\n",
    "    },{\n",
    "        \"variavel\": \"sex\",\n",
    "        \"descricao\": \"gênero do consumidor\",\n",
    "        \"tipo\": \"qualitativo\",\n",
    "        \"subtipo\": \"nominal\"\n",
    "    },{\n",
    "        \"variavel\": \"smoker\",\n",
    "        \"descricao\": \"se é fumante\",\n",
    "        \"tipo\": \"qualitativo\",\n",
    "        \"subtipo\": \"nominal\"\n",
    "    },{\n",
    "        \"variavel\": \"day\",\n",
    "        \"descricao\": \"dia da semana\",\n",
    "        \"tipo\": \"qualitativo\",\n",
    "        \"subtipo\": \"ordinal\"\n",
    "    },{\n",
    "        \"variavel\": \"dime\",\n",
    "        \"descricao\": \"horário da refeição\",\n",
    "        \"tipo\": \"qualitativo\",\n",
    "        \"subtipo\": \"ordinal\"\n",
    "    },{\n",
    "        \"variavel\": \"size\",\n",
    "        \"descricao\": \"lugares na mesa\",\n",
    "        \"tipo\": \"quantitativo\",\n",
    "        \"subtipo\": \"discreto\"\n",
    "    }\n",
    "])\n",
    "\n",
    "df_dict\n",
    "    "
   ]
  },
  {
   "cell_type": "markdown",
   "metadata": {},
   "source": [
    "## Visualização dos dados qualitativos\n",
    "* Dados qualitativos das variáveis - **(sex, day, time)**"
   ]
  },
  {
   "cell_type": "code",
   "execution_count": 26,
   "metadata": {},
   "outputs": [
    {
     "name": "stdout",
     "output_type": "stream",
     "text": [
      "Variáveis: ['Female', 'Male']\n",
      "Categories (2, object): ['Male', 'Female']\n"
     ]
    }
   ],
   "source": [
    "# Análise da variável `sex`\n",
    "print(\"Variáveis:\", df_tips['sex'].unique())"
   ]
  },
  {
   "cell_type": "code",
   "execution_count": 28,
   "metadata": {},
   "outputs": [
    {
     "data": {
      "image/png": "[encoded data removed]",
      "text/plain": [
       "<Figure size 600x400 with 1 Axes>"
      ]
     },
     "metadata": {},
     "output_type": "display_data"
    }
   ],
   "source": [
    "sns.set(style=\"whitegrid\")  # Definindo o estilo de fundo do gráfico\n",
    "\n",
    "# Criando um gráfico de barras\n",
    "plt.figure(figsize=(6, 4))  # Definindo o tamanho da figura\n",
    "\n",
    "# Criando o gráfico de barras\n",
    "sns.countplot(data=df_tips, x=\"sex\", color='green')\n",
    "\n",
    "# Configurando rótulos dos eixos\n",
    "plt.xlabel(\"Gênero\")\n",
    "plt.ylabel(\"Contagem\")\n",
    "\n",
    "# Configurando o título do gráfico\n",
    "plt.title(\"Contagem de Gênero\")\n",
    "\n",
    "# Exibindo o gráfico\n",
    "plt.show()"
   ]
  },
  {
   "cell_type": "code",
   "execution_count": 29,
   "metadata": {},
   "outputs": [
    {
     "name": "stdout",
     "output_type": "stream",
     "text": [
      "Variáveis: ['Sun', 'Sat', 'Thur', 'Fri']\n",
      "Categories (4, object): ['Thur', 'Fri', 'Sat', 'Sun']\n"
     ]
    }
   ],
   "source": [
    "# Análise da variável `day`\n",
    "print(\"Variáveis:\", df_tips['day'].unique())"
   ]
  },
  {
   "cell_type": "code",
   "execution_count": 32,
   "metadata": {},
   "outputs": [
    {
     "data": {
      "image/png": "[encoded data removed]",
      "text/plain": [
       "<Figure size 800x600 with 1 Axes>"
      ]
     },
     "metadata": {},
     "output_type": "display_data"
    }
   ],
   "source": [
    "sns.set(style=\"whitegrid\") \n",
    "\n",
    "plt.figure(figsize=(8, 6)) \n",
    "\n",
    "sns.countplot(data=df_tips, x=\"day\", color='green')\n",
    "\n",
    "plt.xlabel(\"Dia da Semana\")\n",
    "plt.ylabel(\"Contagem\")\n",
    "\n",
    "plt.title(\"Contagem de Dias da Semana\")\n",
    "\n",
    "plt.show()"
   ]
  },
  {
   "cell_type": "code",
   "execution_count": 33,
   "metadata": {},
   "outputs": [
    {
     "name": "stdout",
     "output_type": "stream",
     "text": [
      "Variáveis: ['Dinner', 'Lunch']\n",
      "Categories (2, object): ['Lunch', 'Dinner']\n"
     ]
    }
   ],
   "source": [
    "# Análise da variável `time`\n",
    "print(\"Variáveis:\", df_tips['time'].unique())"
   ]
  },
  {
   "cell_type": "code",
   "execution_count": 35,
   "metadata": {},
   "outputs": [
    {
     "data": {
      "image/png": "[encoded data removed]",
      "text/plain": [
       "<Figure size 800x600 with 1 Axes>"
      ]
     },
     "metadata": {},
     "output_type": "display_data"
    }
   ],
   "source": [
    "sns.set(style=\"whitegrid\") \n",
    "\n",
    "plt.figure(figsize=(8, 6)) \n",
    "\n",
    "sns.countplot(data=df_tips, x=\"time\", color='green')\n",
    "\n",
    "plt.xlabel(\"Horário da Refeição\")\n",
    "plt.ylabel(\"Contagem\")\n",
    "\n",
    "plt.title(\"Contagem de Horário da Refeição\")\n",
    "\n",
    "plt.show()"
   ]
  },
  {
   "cell_type": "markdown",
   "metadata": {},
   "source": [
    "## Visualização dos dados quatitativos\n",
    "* Dados quatitativos das variáveis - **(total_bill, tip, size)**\n",
    "* Descrevendo e calculando os dados usando estatística de tendência central e dispersão"
   ]
  },
  {
   "cell_type": "code",
   "execution_count": 38,
   "metadata": {},
   "outputs": [
    {
     "name": "stdout",
     "output_type": "stream",
     "text": [
      "Média: 19.79\n",
      "Mediana: 17.80\n",
      "Moda: 13.42\n",
      "Amplitude: 47.74\n",
      "Variância: 79.25\n",
      "Desvio Padrão: 8.90\n"
     ]
    }
   ],
   "source": [
    "# Calcular as estatísticas\n",
    "media = df_tips['total_bill'].mean()\n",
    "mediana = df_tips['total_bill'].median()\n",
    "moda = df_tips['total_bill'].mode().values[0]\n",
    "amplitude = df_tips['total_bill'].max() - df_tips['total_bill'].min()\n",
    "variancia = df_tips['total_bill'].var()\n",
    "desvio_padrao = df_tips['total_bill'].std()\n",
    "\n",
    "# Formatar as estatísticas\n",
    "media_formatada = f'{media:.2f}'\n",
    "mediana_formatada = f'{mediana:.2f}'\n",
    "moda_formatada = f'{moda:.2f}'\n",
    "amplitude_formatada = f'{amplitude:.2f}'\n",
    "variancia_formatada = f'{variancia:.2f}'\n",
    "desvio_padrao_formatado = f'{desvio_padrao:.2f}'\n",
    "\n",
    "# Exibir as estatísticas formatadas\n",
    "print(\"Média:\", media_formatada)\n",
    "print(\"Mediana:\", mediana_formatada)\n",
    "print(\"Moda:\", moda_formatada)\n",
    "print(\"Amplitude:\", amplitude_formatada)\n",
    "print(\"Variância:\", variancia_formatada)\n",
    "print(\"Desvio Padrão:\", desvio_padrao_formatado)"
   ]
  },
  {
   "cell_type": "code",
   "execution_count": 41,
   "metadata": {},
   "outputs": [
    {
     "name": "stdout",
     "output_type": "stream",
     "text": [
      "Média: 3.00\n",
      "Mediana: 2.90\n",
      "Moda: 2.00\n",
      "Amplitude: 9.00\n",
      "Variância: 1.91\n",
      "Desvio Padrão: 1.38\n"
     ]
    }
   ],
   "source": [
    "# Calcular as estatísticas\n",
    "media = df_tips['tip'].mean()\n",
    "mediana = df_tips['tip'].median()\n",
    "moda = df_tips['tip'].mode().values[0]\n",
    "amplitude = df_tips['tip'].max() - df_tips['tip'].min()\n",
    "variancia = df_tips['tip'].var()\n",
    "desvio_padrao = df_tips['tip'].std()\n",
    "\n",
    "# Formatar as estatísticas\n",
    "media_formatada = f'{media:.2f}'\n",
    "mediana_formatada = f'{mediana:.2f}'\n",
    "moda_formatada = f'{moda:.2f}'\n",
    "amplitude_formatada = f'{amplitude:.2f}'\n",
    "variancia_formatada = f'{variancia:.2f}'\n",
    "desvio_padrao_formatado = f'{desvio_padrao:.2f}'\n",
    "\n",
    "# Exibir as estatísticas formatadas\n",
    "print(\"Média:\", media_formatada)\n",
    "print(\"Mediana:\", mediana_formatada)\n",
    "print(\"Moda:\", moda_formatada)\n",
    "print(\"Amplitude:\", amplitude_formatada)\n",
    "print(\"Variância:\", variancia_formatada)\n",
    "print(\"Desvio Padrão:\", desvio_padrao_formatado)"
   ]
  },
  {
   "cell_type": "code",
   "execution_count": 42,
   "metadata": {},
   "outputs": [
    {
     "name": "stdout",
     "output_type": "stream",
     "text": [
      "Média: 2.57\n",
      "Mediana: 2.00\n",
      "Moda: 2.00\n",
      "Amplitude: 5.00\n",
      "Variância: 0.90\n",
      "Desvio Padrão: 0.95\n"
     ]
    }
   ],
   "source": [
    "# Calcular as estatísticas\n",
    "media = df_tips['size'].mean()\n",
    "mediana = df_tips['size'].median()\n",
    "moda = df_tips['size'].mode().values[0]\n",
    "amplitude = df_tips['size'].max() - df_tips['size'].min()\n",
    "variancia = df_tips['size'].var()\n",
    "desvio_padrao = df_tips['size'].std()\n",
    "\n",
    "# Formatar as estatísticas\n",
    "media_formatada = f'{media:.2f}'\n",
    "mediana_formatada = f'{mediana:.2f}'\n",
    "moda_formatada = f'{moda:.2f}'\n",
    "amplitude_formatada = f'{amplitude:.2f}'\n",
    "variancia_formatada = f'{variancia:.2f}'\n",
    "desvio_padrao_formatado = f'{desvio_padrao:.2f}'\n",
    "\n",
    "# Exibir as estatísticas formatadas\n",
    "print(\"Média:\", media_formatada)\n",
    "print(\"Mediana:\", mediana_formatada)\n",
    "print(\"Moda:\", moda_formatada)\n",
    "print(\"Amplitude:\", amplitude_formatada)\n",
    "print(\"Variância:\", variancia_formatada)\n",
    "print(\"Desvio Padrão:\", desvio_padrao_formatado)"
   ]
  }
 ],
 "metadata": {
  "kernelspec": {
   "display_name": "Python 3 (ipykernel)",
   "language": "python",
   "name": "python3"
  },
  "language_info": {
   "codemirror_mode": {
    "name": "ipython",
    "version": 3
   },
   "file_extension": ".py",
   "mimetype": "text/x-python",
   "name": "python",
   "nbconvert_exporter": "python",
   "pygments_lexer": "ipython3",
   "version": "3.10.12"
  }
 },
 "nbformat": 4,
 "nbformat_minor": 2
}
