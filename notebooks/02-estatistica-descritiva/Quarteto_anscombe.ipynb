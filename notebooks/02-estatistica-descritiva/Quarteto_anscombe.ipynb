{
 "cells": [
  {
   "cell_type": "markdown",
   "metadata": {},
   "source": [
    "# EXERCÍCIO DE ESTATíSTICA DESCRITIVA"
   ]
  },
  {
   "cell_type": "markdown",
   "metadata": {},
   "source": [
    "### Tópicos abordados no exercício\n",
    "* Carregar conjunto de dados - **Quarteto Anscombe (anscombe)**;\n",
    "* Criar dicionário de dados;\n",
    "* Descrever os dados usando estatística de tendência central e dispersão;\n",
    "* Calcular estatística de forma separada para cada variável categórica."
   ]
  },
  {
   "cell_type": "code",
   "execution_count": 1,
   "metadata": {},
   "outputs": [],
   "source": [
    "from IPython.display import Markdown \n",
    "import pandas as pd\n",
    "import seaborn as sns \n",
    "import matplotlib.pyplot as plt"
   ]
  },
  {
   "cell_type": "markdown",
   "metadata": {},
   "source": [
    "## Conjuntos de dados"
   ]
  },
  {
   "cell_type": "code",
   "execution_count": 2,
   "metadata": {},
   "outputs": [
    {
     "data": {
      "text/markdown": [
       "### Quarteto Anscombe dataset"
      ],
      "text/plain": [
       "<IPython.core.display.Markdown object>"
      ]
     },
     "metadata": {},
     "output_type": "display_data"
    },
    {
     "data": {
      "text/html": [
       "<div>\n",
       "<style scoped>\n",
       "    .dataframe tbody tr th:only-of-type {\n",
       "        vertical-align: middle;\n",
       "    }\n",
       "\n",
       "    .dataframe tbody tr th {\n",
       "        vertical-align: top;\n",
       "    }\n",
       "\n",
       "    .dataframe thead th {\n",
       "        text-align: right;\n",
       "    }\n",
       "</style>\n",
       "<table border=\"1\" class=\"dataframe\">\n",
       "  <thead>\n",
       "    <tr style=\"text-align: right;\">\n",
       "      <th></th>\n",
       "      <th>dataset</th>\n",
       "      <th>x</th>\n",
       "      <th>y</th>\n",
       "    </tr>\n",
       "  </thead>\n",
       "  <tbody>\n",
       "    <tr>\n",
       "      <th>0</th>\n",
       "      <td>I</td>\n",
       "      <td>10.0</td>\n",
       "      <td>8.04</td>\n",
       "    </tr>\n",
       "    <tr>\n",
       "      <th>1</th>\n",
       "      <td>I</td>\n",
       "      <td>8.0</td>\n",
       "      <td>6.95</td>\n",
       "    </tr>\n",
       "    <tr>\n",
       "      <th>2</th>\n",
       "      <td>I</td>\n",
       "      <td>13.0</td>\n",
       "      <td>7.58</td>\n",
       "    </tr>\n",
       "    <tr>\n",
       "      <th>3</th>\n",
       "      <td>I</td>\n",
       "      <td>9.0</td>\n",
       "      <td>8.81</td>\n",
       "    </tr>\n",
       "    <tr>\n",
       "      <th>4</th>\n",
       "      <td>I</td>\n",
       "      <td>11.0</td>\n",
       "      <td>8.33</td>\n",
       "    </tr>\n",
       "  </tbody>\n",
       "</table>\n",
       "</div>"
      ],
      "text/plain": [
       "  dataset     x     y\n",
       "0       I  10.0  8.04\n",
       "1       I   8.0  6.95\n",
       "2       I  13.0  7.58\n",
       "3       I   9.0  8.81\n",
       "4       I  11.0  8.33"
      ]
     },
     "metadata": {},
     "output_type": "display_data"
    },
    {
     "data": {
      "text/markdown": [
       "### Explorando os dados"
      ],
      "text/plain": [
       "<IPython.core.display.Markdown object>"
      ]
     },
     "metadata": {},
     "output_type": "display_data"
    },
    {
     "name": "stdout",
     "output_type": "stream",
     "text": [
      "<class 'pandas.core.frame.DataFrame'>\n",
      "RangeIndex: 44 entries, 0 to 43\n",
      "Data columns (total 3 columns):\n",
      " #   Column   Non-Null Count  Dtype  \n",
      "---  ------   --------------  -----  \n",
      " 0   dataset  44 non-null     object \n",
      " 1   x        44 non-null     float64\n",
      " 2   y        44 non-null     float64\n",
      "dtypes: float64(2), object(1)\n",
      "memory usage: 1.2+ KB\n"
     ]
    },
    {
     "data": {
      "text/markdown": [
       "### Estatísticas descritivas"
      ],
      "text/plain": [
       "<IPython.core.display.Markdown object>"
      ]
     },
     "metadata": {},
     "output_type": "display_data"
    },
    {
     "data": {
      "text/html": [
       "<div>\n",
       "<style scoped>\n",
       "    .dataframe tbody tr th:only-of-type {\n",
       "        vertical-align: middle;\n",
       "    }\n",
       "\n",
       "    .dataframe tbody tr th {\n",
       "        vertical-align: top;\n",
       "    }\n",
       "\n",
       "    .dataframe thead th {\n",
       "        text-align: right;\n",
       "    }\n",
       "</style>\n",
       "<table border=\"1\" class=\"dataframe\">\n",
       "  <thead>\n",
       "    <tr style=\"text-align: right;\">\n",
       "      <th></th>\n",
       "      <th>x</th>\n",
       "      <th>y</th>\n",
       "    </tr>\n",
       "  </thead>\n",
       "  <tbody>\n",
       "    <tr>\n",
       "      <th>count</th>\n",
       "      <td>44.000000</td>\n",
       "      <td>44.000000</td>\n",
       "    </tr>\n",
       "    <tr>\n",
       "      <th>mean</th>\n",
       "      <td>9.000000</td>\n",
       "      <td>7.500682</td>\n",
       "    </tr>\n",
       "    <tr>\n",
       "      <th>std</th>\n",
       "      <td>3.198837</td>\n",
       "      <td>1.958925</td>\n",
       "    </tr>\n",
       "    <tr>\n",
       "      <th>min</th>\n",
       "      <td>4.000000</td>\n",
       "      <td>3.100000</td>\n",
       "    </tr>\n",
       "    <tr>\n",
       "      <th>25%</th>\n",
       "      <td>7.000000</td>\n",
       "      <td>6.117500</td>\n",
       "    </tr>\n",
       "    <tr>\n",
       "      <th>50%</th>\n",
       "      <td>8.000000</td>\n",
       "      <td>7.520000</td>\n",
       "    </tr>\n",
       "    <tr>\n",
       "      <th>75%</th>\n",
       "      <td>11.000000</td>\n",
       "      <td>8.747500</td>\n",
       "    </tr>\n",
       "    <tr>\n",
       "      <th>max</th>\n",
       "      <td>19.000000</td>\n",
       "      <td>12.740000</td>\n",
       "    </tr>\n",
       "  </tbody>\n",
       "</table>\n",
       "</div>"
      ],
      "text/plain": [
       "               x          y\n",
       "count  44.000000  44.000000\n",
       "mean    9.000000   7.500682\n",
       "std     3.198837   1.958925\n",
       "min     4.000000   3.100000\n",
       "25%     7.000000   6.117500\n",
       "50%     8.000000   7.520000\n",
       "75%    11.000000   8.747500\n",
       "max    19.000000  12.740000"
      ]
     },
     "metadata": {},
     "output_type": "display_data"
    }
   ],
   "source": [
    "# Carregar conjunto de dados\n",
    "df_anscombe = sns.load_dataset('anscombe')\n",
    "display(Markdown(\"### Quarteto Anscombe dataset\"))\n",
    "display(df_anscombe.head())\n",
    "\n",
    "display(Markdown(\"### Explorando os dados\"))\n",
    "df_anscombe.info()\n",
    "\n",
    "display(Markdown(\"### Estatísticas descritivas\"))\n",
    "display(df_anscombe.describe())"
   ]
  },
  {
   "cell_type": "markdown",
   "metadata": {},
   "source": [
    "## Dicionário de dados"
   ]
  },
  {
   "cell_type": "code",
   "execution_count": 3,
   "metadata": {},
   "outputs": [
    {
     "data": {
      "text/html": [
       "<div>\n",
       "<style scoped>\n",
       "    .dataframe tbody tr th:only-of-type {\n",
       "        vertical-align: middle;\n",
       "    }\n",
       "\n",
       "    .dataframe tbody tr th {\n",
       "        vertical-align: top;\n",
       "    }\n",
       "\n",
       "    .dataframe thead th {\n",
       "        text-align: right;\n",
       "    }\n",
       "</style>\n",
       "<table border=\"1\" class=\"dataframe\">\n",
       "  <thead>\n",
       "    <tr style=\"text-align: right;\">\n",
       "      <th></th>\n",
       "      <th>variavel</th>\n",
       "      <th>descricao</th>\n",
       "      <th>tipo</th>\n",
       "      <th>subtipo</th>\n",
       "    </tr>\n",
       "  </thead>\n",
       "  <tbody>\n",
       "    <tr>\n",
       "      <th>0</th>\n",
       "      <td>x</td>\n",
       "      <td>x</td>\n",
       "      <td>quantitativo</td>\n",
       "      <td>contínuo</td>\n",
       "    </tr>\n",
       "    <tr>\n",
       "      <th>1</th>\n",
       "      <td>y</td>\n",
       "      <td>y</td>\n",
       "      <td>quantitativo</td>\n",
       "      <td>contínuo</td>\n",
       "    </tr>\n",
       "  </tbody>\n",
       "</table>\n",
       "</div>"
      ],
      "text/plain": [
       "  variavel descricao          tipo   subtipo\n",
       "0        x         x  quantitativo  contínuo\n",
       "1        y         y  quantitativo  contínuo"
      ]
     },
     "execution_count": 3,
     "metadata": {},
     "output_type": "execute_result"
    }
   ],
   "source": [
    "# Criando dicionário de dados\n",
    "\n",
    "df_dict = pd.DataFrame([\n",
    "    {\n",
    "        \"variavel\": \"x\",\n",
    "        \"descricao\": \"x\",\n",
    "        \"tipo\": \"quantitativo\",\n",
    "        \"subtipo\": \"contínuo\"\n",
    "    },{\n",
    "        \"variavel\": \"y\",\n",
    "        \"descricao\": \"y\",\n",
    "        \"tipo\": \"quantitativo\",\n",
    "        \"subtipo\": \"contínuo\"\n",
    "    }\n",
    "])\n",
    "\n",
    "df_dict\n",
    "\n",
    "# Descrição: A variável 'x' representa um conjunto de dados com valores x, que, à primeira vista,\n",
    "# parecem ser números contínuos.\n",
    "\n",
    "# Descrição: A variável 'y' representa um conjunto de dados com valores y, também inicialmente parecendo\n",
    "# ser números contínuos."
   ]
  },
  {
   "cell_type": "markdown",
   "metadata": {},
   "source": [
    "## Visualização dos dados quatitativos\n",
    "* Dados quatitativos das variáveis - **(x,y)**\n",
    "* Descrevendo e calculando os dados **usando estatística de tendência central e dispersão**"
   ]
  },
  {
   "cell_type": "code",
   "execution_count": 4,
   "metadata": {},
   "outputs": [
    {
     "name": "stdout",
     "output_type": "stream",
     "text": [
      "Média: 9.00\n",
      "Mediana: 8.00\n",
      "Moda: 8.00\n",
      "Amplitude: 15.00\n",
      "Variância: 10.23\n",
      "Desvio Padrão: 3.20\n"
     ]
    }
   ],
   "source": [
    "media = df_anscombe['x'].mean()\n",
    "mediana = df_anscombe['x'].median()\n",
    "moda = df_anscombe['x'].mode().values[0]\n",
    "amplitude = df_anscombe['x'].max() - df_anscombe['x'].min()\n",
    "variancia = df_anscombe['x'].var()\n",
    "desvio_padrao = df_anscombe['x'].std()\n",
    "\n",
    "media_formatada = f'{media:.2f}'\n",
    "mediana_formatada = f'{mediana:.2f}'\n",
    "moda_formatada = f'{moda:.2f}'\n",
    "amplitude_formatada = f'{amplitude:.2f}'\n",
    "variancia_formatada = f'{variancia:.2f}'\n",
    "desvio_padrao_formatado = f'{desvio_padrao:.2f}'\n",
    "\n",
    "print(\"Média:\", media_formatada)\n",
    "print(\"Mediana:\", mediana_formatada)\n",
    "print(\"Moda:\", moda_formatada)\n",
    "print(\"Amplitude:\", amplitude_formatada)\n",
    "print(\"Variância:\", variancia_formatada)\n",
    "print(\"Desvio Padrão:\", desvio_padrao_formatado)"
   ]
  },
  {
   "cell_type": "code",
   "execution_count": 5,
   "metadata": {},
   "outputs": [
    {
     "name": "stdout",
     "output_type": "stream",
     "text": [
      "Média: 7.50\n",
      "Mediana: 7.52\n",
      "Moda: 8.84\n",
      "Amplitude: 9.64\n",
      "Variância: 3.84\n",
      "Desvio Padrão: 1.96\n"
     ]
    }
   ],
   "source": [
    "media = df_anscombe['y'].mean()\n",
    "mediana = df_anscombe['y'].median()\n",
    "moda = df_anscombe['y'].mode().values[0]\n",
    "amplitude = df_anscombe['y'].max() - df_anscombe['y'].min()\n",
    "variancia = df_anscombe['y'].var()\n",
    "desvio_padrao = df_anscombe['y'].std()\n",
    "\n",
    "media_formatada = f'{media:.2f}'\n",
    "mediana_formatada = f'{mediana:.2f}'\n",
    "moda_formatada = f'{moda:.2f}'\n",
    "amplitude_formatada = f'{amplitude:.2f}'\n",
    "variancia_formatada = f'{variancia:.2f}'\n",
    "desvio_padrao_formatado = f'{desvio_padrao:.2f}'\n",
    "\n",
    "print(\"Média:\", media_formatada)\n",
    "print(\"Mediana:\", mediana_formatada)\n",
    "print(\"Moda:\", moda_formatada)\n",
    "print(\"Amplitude:\", amplitude_formatada)\n",
    "print(\"Variância:\", variancia_formatada)\n",
    "print(\"Desvio Padrão:\", desvio_padrao_formatado)"
   ]
  }
 ],
 "metadata": {
  "kernelspec": {
   "display_name": "Python 3 (ipykernel)",
   "language": "python",
   "name": "python3"
  },
  "language_info": {
   "codemirror_mode": {
    "name": "ipython",
    "version": 3
   },
   "file_extension": ".py",
   "mimetype": "text/x-python",
   "name": "python",
   "nbconvert_exporter": "python",
   "pygments_lexer": "ipython3",
   "version": "3.10.12"
  }
 },
 "nbformat": 4,
 "nbformat_minor": 2
}
