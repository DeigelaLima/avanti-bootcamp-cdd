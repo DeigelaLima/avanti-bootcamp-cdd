{
 "cells": [
  {
   "cell_type": "markdown",
   "metadata": {},
   "source": [
    "# EXERCÍCIO DE ESTATÍSTICA DESCRITIVA"
   ]
  },
  {
   "cell_type": "markdown",
   "metadata": {},
   "source": [
    "### Tópicos abordados no exercício\n",
    "* Carregar conjunto de dados - **Pinguins (penguins)**;\n",
    "* Criar dicionário de dados;\n",
    "* Descrever os dados usando estatística de tendência central e dispersão;\n",
    "* Calcular estatística de forma separada para cada variável categórica."
   ]
  },
  {
   "cell_type": "code",
   "execution_count": 6,
   "metadata": {},
   "outputs": [],
   "source": [
    "from IPython.display import Markdown \n",
    "import pandas as pd\n",
    "import seaborn as sns \n",
    "import matplotlib.pyplot as plt"
   ]
  },
  {
   "cell_type": "markdown",
   "metadata": {},
   "source": [
    "### Conjuntos de dados"
   ]
  },
  {
   "cell_type": "code",
   "execution_count": 7,
   "metadata": {},
   "outputs": [
    {
     "data": {
      "text/markdown": [
       "### Pinguins dataset"
      ],
      "text/plain": [
       "<IPython.core.display.Markdown object>"
      ]
     },
     "metadata": {},
     "output_type": "display_data"
    },
    {
     "data": {
      "text/html": [
       "<div>\n",
       "<style scoped>\n",
       "    .dataframe tbody tr th:only-of-type {\n",
       "        vertical-align: middle;\n",
       "    }\n",
       "\n",
       "    .dataframe tbody tr th {\n",
       "        vertical-align: top;\n",
       "    }\n",
       "\n",
       "    .dataframe thead th {\n",
       "        text-align: right;\n",
       "    }\n",
       "</style>\n",
       "<table border=\"1\" class=\"dataframe\">\n",
       "  <thead>\n",
       "    <tr style=\"text-align: right;\">\n",
       "      <th></th>\n",
       "      <th>species</th>\n",
       "      <th>island</th>\n",
       "      <th>bill_length_mm</th>\n",
       "      <th>bill_depth_mm</th>\n",
       "      <th>flipper_length_mm</th>\n",
       "      <th>body_mass_g</th>\n",
       "      <th>sex</th>\n",
       "    </tr>\n",
       "  </thead>\n",
       "  <tbody>\n",
       "    <tr>\n",
       "      <th>0</th>\n",
       "      <td>Adelie</td>\n",
       "      <td>Torgersen</td>\n",
       "      <td>39.1</td>\n",
       "      <td>18.7</td>\n",
       "      <td>181.0</td>\n",
       "      <td>3750.0</td>\n",
       "      <td>Male</td>\n",
       "    </tr>\n",
       "    <tr>\n",
       "      <th>1</th>\n",
       "      <td>Adelie</td>\n",
       "      <td>Torgersen</td>\n",
       "      <td>39.5</td>\n",
       "      <td>17.4</td>\n",
       "      <td>186.0</td>\n",
       "      <td>3800.0</td>\n",
       "      <td>Female</td>\n",
       "    </tr>\n",
       "    <tr>\n",
       "      <th>2</th>\n",
       "      <td>Adelie</td>\n",
       "      <td>Torgersen</td>\n",
       "      <td>40.3</td>\n",
       "      <td>18.0</td>\n",
       "      <td>195.0</td>\n",
       "      <td>3250.0</td>\n",
       "      <td>Female</td>\n",
       "    </tr>\n",
       "    <tr>\n",
       "      <th>3</th>\n",
       "      <td>Adelie</td>\n",
       "      <td>Torgersen</td>\n",
       "      <td>NaN</td>\n",
       "      <td>NaN</td>\n",
       "      <td>NaN</td>\n",
       "      <td>NaN</td>\n",
       "      <td>NaN</td>\n",
       "    </tr>\n",
       "    <tr>\n",
       "      <th>4</th>\n",
       "      <td>Adelie</td>\n",
       "      <td>Torgersen</td>\n",
       "      <td>36.7</td>\n",
       "      <td>19.3</td>\n",
       "      <td>193.0</td>\n",
       "      <td>3450.0</td>\n",
       "      <td>Female</td>\n",
       "    </tr>\n",
       "  </tbody>\n",
       "</table>\n",
       "</div>"
      ],
      "text/plain": [
       "  species     island  bill_length_mm  bill_depth_mm  flipper_length_mm  \\\n",
       "0  Adelie  Torgersen            39.1           18.7              181.0   \n",
       "1  Adelie  Torgersen            39.5           17.4              186.0   \n",
       "2  Adelie  Torgersen            40.3           18.0              195.0   \n",
       "3  Adelie  Torgersen             NaN            NaN                NaN   \n",
       "4  Adelie  Torgersen            36.7           19.3              193.0   \n",
       "\n",
       "   body_mass_g     sex  \n",
       "0       3750.0    Male  \n",
       "1       3800.0  Female  \n",
       "2       3250.0  Female  \n",
       "3          NaN     NaN  \n",
       "4       3450.0  Female  "
      ]
     },
     "metadata": {},
     "output_type": "display_data"
    },
    {
     "data": {
      "text/markdown": [
       "### Explorando os dados"
      ],
      "text/plain": [
       "<IPython.core.display.Markdown object>"
      ]
     },
     "metadata": {},
     "output_type": "display_data"
    },
    {
     "name": "stdout",
     "output_type": "stream",
     "text": [
      "<class 'pandas.core.frame.DataFrame'>\n",
      "RangeIndex: 344 entries, 0 to 343\n",
      "Data columns (total 7 columns):\n",
      " #   Column             Non-Null Count  Dtype  \n",
      "---  ------             --------------  -----  \n",
      " 0   species            344 non-null    object \n",
      " 1   island             344 non-null    object \n",
      " 2   bill_length_mm     342 non-null    float64\n",
      " 3   bill_depth_mm      342 non-null    float64\n",
      " 4   flipper_length_mm  342 non-null    float64\n",
      " 5   body_mass_g        342 non-null    float64\n",
      " 6   sex                333 non-null    object \n",
      "dtypes: float64(4), object(3)\n",
      "memory usage: 18.9+ KB\n"
     ]
    },
    {
     "data": {
      "text/markdown": [
       "### Estatísticas descritivas"
      ],
      "text/plain": [
       "<IPython.core.display.Markdown object>"
      ]
     },
     "metadata": {},
     "output_type": "display_data"
    },
    {
     "data": {
      "text/html": [
       "<div>\n",
       "<style scoped>\n",
       "    .dataframe tbody tr th:only-of-type {\n",
       "        vertical-align: middle;\n",
       "    }\n",
       "\n",
       "    .dataframe tbody tr th {\n",
       "        vertical-align: top;\n",
       "    }\n",
       "\n",
       "    .dataframe thead th {\n",
       "        text-align: right;\n",
       "    }\n",
       "</style>\n",
       "<table border=\"1\" class=\"dataframe\">\n",
       "  <thead>\n",
       "    <tr style=\"text-align: right;\">\n",
       "      <th></th>\n",
       "      <th>bill_length_mm</th>\n",
       "      <th>bill_depth_mm</th>\n",
       "      <th>flipper_length_mm</th>\n",
       "      <th>body_mass_g</th>\n",
       "    </tr>\n",
       "  </thead>\n",
       "  <tbody>\n",
       "    <tr>\n",
       "      <th>count</th>\n",
       "      <td>342.000000</td>\n",
       "      <td>342.000000</td>\n",
       "      <td>342.000000</td>\n",
       "      <td>342.000000</td>\n",
       "    </tr>\n",
       "    <tr>\n",
       "      <th>mean</th>\n",
       "      <td>43.921930</td>\n",
       "      <td>17.151170</td>\n",
       "      <td>200.915205</td>\n",
       "      <td>4201.754386</td>\n",
       "    </tr>\n",
       "    <tr>\n",
       "      <th>std</th>\n",
       "      <td>5.459584</td>\n",
       "      <td>1.974793</td>\n",
       "      <td>14.061714</td>\n",
       "      <td>801.954536</td>\n",
       "    </tr>\n",
       "    <tr>\n",
       "      <th>min</th>\n",
       "      <td>32.100000</td>\n",
       "      <td>13.100000</td>\n",
       "      <td>172.000000</td>\n",
       "      <td>2700.000000</td>\n",
       "    </tr>\n",
       "    <tr>\n",
       "      <th>25%</th>\n",
       "      <td>39.225000</td>\n",
       "      <td>15.600000</td>\n",
       "      <td>190.000000</td>\n",
       "      <td>3550.000000</td>\n",
       "    </tr>\n",
       "    <tr>\n",
       "      <th>50%</th>\n",
       "      <td>44.450000</td>\n",
       "      <td>17.300000</td>\n",
       "      <td>197.000000</td>\n",
       "      <td>4050.000000</td>\n",
       "    </tr>\n",
       "    <tr>\n",
       "      <th>75%</th>\n",
       "      <td>48.500000</td>\n",
       "      <td>18.700000</td>\n",
       "      <td>213.000000</td>\n",
       "      <td>4750.000000</td>\n",
       "    </tr>\n",
       "    <tr>\n",
       "      <th>max</th>\n",
       "      <td>59.600000</td>\n",
       "      <td>21.500000</td>\n",
       "      <td>231.000000</td>\n",
       "      <td>6300.000000</td>\n",
       "    </tr>\n",
       "  </tbody>\n",
       "</table>\n",
       "</div>"
      ],
      "text/plain": [
       "       bill_length_mm  bill_depth_mm  flipper_length_mm  body_mass_g\n",
       "count      342.000000     342.000000         342.000000   342.000000\n",
       "mean        43.921930      17.151170         200.915205  4201.754386\n",
       "std          5.459584       1.974793          14.061714   801.954536\n",
       "min         32.100000      13.100000         172.000000  2700.000000\n",
       "25%         39.225000      15.600000         190.000000  3550.000000\n",
       "50%         44.450000      17.300000         197.000000  4050.000000\n",
       "75%         48.500000      18.700000         213.000000  4750.000000\n",
       "max         59.600000      21.500000         231.000000  6300.000000"
      ]
     },
     "metadata": {},
     "output_type": "display_data"
    }
   ],
   "source": [
    "# Carregar conjunto de dados\n",
    "df_penguins = sns.load_dataset('penguins')\n",
    "display(Markdown(\"### Pinguins dataset\"))\n",
    "display(df_penguins.head())\n",
    "\n",
    "display(Markdown(\"### Explorando os dados\"))\n",
    "df_penguins.info()\n",
    "\n",
    "display(Markdown(\"### Estatísticas descritivas\"))\n",
    "display(df_penguins.describe())"
   ]
  },
  {
   "cell_type": "markdown",
   "metadata": {},
   "source": [
    "### Dicionário de dados"
   ]
  },
  {
   "cell_type": "code",
   "execution_count": 8,
   "metadata": {},
   "outputs": [
    {
     "data": {
      "text/html": [
       "<div>\n",
       "<style scoped>\n",
       "    .dataframe tbody tr th:only-of-type {\n",
       "        vertical-align: middle;\n",
       "    }\n",
       "\n",
       "    .dataframe tbody tr th {\n",
       "        vertical-align: top;\n",
       "    }\n",
       "\n",
       "    .dataframe thead th {\n",
       "        text-align: right;\n",
       "    }\n",
       "</style>\n",
       "<table border=\"1\" class=\"dataframe\">\n",
       "  <thead>\n",
       "    <tr style=\"text-align: right;\">\n",
       "      <th></th>\n",
       "      <th>variavel</th>\n",
       "      <th>descricao</th>\n",
       "      <th>tipo</th>\n",
       "      <th>subtipo</th>\n",
       "      <th>resposta</th>\n",
       "    </tr>\n",
       "  </thead>\n",
       "  <tbody>\n",
       "    <tr>\n",
       "      <th>0</th>\n",
       "      <td>species</td>\n",
       "      <td>espécie do pinguim ('Adelie', 'Chinstrap', 'Ge...</td>\n",
       "      <td>qualitativa</td>\n",
       "      <td>nominal</td>\n",
       "      <td>True</td>\n",
       "    </tr>\n",
       "    <tr>\n",
       "      <th>1</th>\n",
       "      <td>island</td>\n",
       "      <td>ilha em que o pinguim foi encontrado ('Torgers...</td>\n",
       "      <td>qualitativa</td>\n",
       "      <td>nominal</td>\n",
       "      <td>False</td>\n",
       "    </tr>\n",
       "    <tr>\n",
       "      <th>2</th>\n",
       "      <td>bill_length_mm</td>\n",
       "      <td>comprimento do bico do pinguim em milímetros</td>\n",
       "      <td>quantitativa</td>\n",
       "      <td>continua</td>\n",
       "      <td>False</td>\n",
       "    </tr>\n",
       "    <tr>\n",
       "      <th>3</th>\n",
       "      <td>bill_depth_mm</td>\n",
       "      <td>profundidade do bico do pinguim em milímetros</td>\n",
       "      <td>quantitativa</td>\n",
       "      <td>continua</td>\n",
       "      <td>False</td>\n",
       "    </tr>\n",
       "    <tr>\n",
       "      <th>4</th>\n",
       "      <td>flipper_length_mm</td>\n",
       "      <td>comprimento da nadadeira do pinguim em milímetros</td>\n",
       "      <td>quantitativa</td>\n",
       "      <td>continua</td>\n",
       "      <td>False</td>\n",
       "    </tr>\n",
       "    <tr>\n",
       "      <th>5</th>\n",
       "      <td>body_mass_g</td>\n",
       "      <td>massa corporal do pinguim em gramas</td>\n",
       "      <td>quantitativa</td>\n",
       "      <td>continua</td>\n",
       "      <td>False</td>\n",
       "    </tr>\n",
       "    <tr>\n",
       "      <th>6</th>\n",
       "      <td>sex</td>\n",
       "      <td>sexo do pinguim ('Male', 'Female')</td>\n",
       "      <td>qualitativa</td>\n",
       "      <td>nominal</td>\n",
       "      <td>False</td>\n",
       "    </tr>\n",
       "  </tbody>\n",
       "</table>\n",
       "</div>"
      ],
      "text/plain": [
       "            variavel                                          descricao  \\\n",
       "0            species  espécie do pinguim ('Adelie', 'Chinstrap', 'Ge...   \n",
       "1             island  ilha em que o pinguim foi encontrado ('Torgers...   \n",
       "2     bill_length_mm       comprimento do bico do pinguim em milímetros   \n",
       "3      bill_depth_mm      profundidade do bico do pinguim em milímetros   \n",
       "4  flipper_length_mm  comprimento da nadadeira do pinguim em milímetros   \n",
       "5        body_mass_g                massa corporal do pinguim em gramas   \n",
       "6                sex                 sexo do pinguim ('Male', 'Female')   \n",
       "\n",
       "           tipo   subtipo  resposta  \n",
       "0   qualitativa   nominal      True  \n",
       "1   qualitativa   nominal     False  \n",
       "2  quantitativa  continua     False  \n",
       "3  quantitativa  continua     False  \n",
       "4  quantitativa  continua     False  \n",
       "5  quantitativa  continua     False  \n",
       "6   qualitativa   nominal     False  "
      ]
     },
     "execution_count": 8,
     "metadata": {},
     "output_type": "execute_result"
    }
   ],
   "source": [
    "# Criando dicionário de dados\n",
    "\n",
    "df_dict = pd.DataFrame([\n",
    "    {\n",
    "        \"variavel\": \"species\",\n",
    "        \"descricao\": \"espécie do pinguim ('Adelie', 'Chinstrap', 'Gentoo')\",\n",
    "        \"tipo\": \"qualitativa\",\n",
    "        \"subtipo\": \"nominal\",\n",
    "        \"resposta\": True\n",
    "    },{\n",
    "        \"variavel\": \"island\",\n",
    "        \"descricao\": \"ilha em que o pinguim foi encontrado ('Torgersen', 'Biscoe', 'Dream')\",\n",
    "        \"tipo\": \"qualitativa\",\n",
    "        \"subtipo\": \"nominal\",\n",
    "        \"resposta\": False\n",
    "    },{\n",
    "        \"variavel\": \"bill_length_mm\",\n",
    "        \"descricao\": \"comprimento do bico do pinguim em milímetros\",\n",
    "        \"tipo\": \"quantitativa\",\n",
    "        \"subtipo\": \"continua\",\n",
    "        \"resposta\": False\n",
    "    },{\n",
    "        \"variavel\": \"bill_depth_mm\",\n",
    "        \"descricao\": \"profundidade do bico do pinguim em milímetros\",\n",
    "        \"tipo\": \"quantitativa\",\n",
    "        \"subtipo\": \"continua\",\n",
    "        \"resposta\": False\n",
    "    },{\n",
    "        \"variavel\": \"flipper_length_mm\",\n",
    "        \"descricao\": \"comprimento da nadadeira do pinguim em milímetros\",\n",
    "        \"tipo\": \"quantitativa\",\n",
    "        \"subtipo\": \"continua\",\n",
    "        \"resposta\": False\n",
    "    },{\n",
    "        \"variavel\": \"body_mass_g\",\n",
    "        \"descricao\": \"massa corporal do pinguim em gramas\",\n",
    "        \"tipo\": \"quantitativa\",\n",
    "        \"subtipo\": \"continua\",\n",
    "        \"resposta\": False\n",
    "    },{\n",
    "        \"variavel\": \"sex\",\n",
    "        \"descricao\": \"sexo do pinguim ('Male', 'Female')\",\n",
    "        \"tipo\": \"qualitativa\",\n",
    "        \"subtipo\": \"nominal\",\n",
    "        \"resposta\": False\n",
    "    }\n",
    "])\n",
    "\n",
    "df_dict"
   ]
  },
  {
   "cell_type": "markdown",
   "metadata": {},
   "source": [
    "### Visualização dos dados qualitativos\n",
    "* Dados qualitativos das variáveis - **(species, island, sex)**"
   ]
  },
  {
   "cell_type": "code",
   "execution_count": 9,
   "metadata": {},
   "outputs": [
    {
     "name": "stdout",
     "output_type": "stream",
     "text": [
      "Variáveis: ['Adelie' 'Chinstrap' 'Gentoo']\n"
     ]
    }
   ],
   "source": [
    "# Análise da variável `species`\n",
    "print(\"Variáveis:\", df_penguins['species'].unique())"
   ]
  },
  {
   "cell_type": "code",
   "execution_count": 10,
   "metadata": {},
   "outputs": [
    {
     "data": {
      "image/png": "[encoded data removed]",
      "text/plain": [
       "<Figure size 600x400 with 1 Axes>"
      ]
     },
     "metadata": {},
     "output_type": "display_data"
    }
   ],
   "source": [
    "#__________________________________________________________________________________\n",
    "# Cria um gráfico de barras que mostra a distribuição das diferentes espécies\n",
    "# na coluna 'species' do DataFrame `df_penguins`.\n",
    "#__________________________________________________________________________________\n",
    "\n",
    "# Configuração do estilo do gráfico\n",
    "sns.set(style=\"whitegrid\")\n",
    "\n",
    "# Criando um gráfico de barras\n",
    "plt.figure(figsize=(6, 4))  # Definindo o tamanho da figura\n",
    "\n",
    "# Criando o gráfico de barras\n",
    "sns.countplot(data=df_penguins, x=\"species\", color='green')\n",
    "\n",
    "# Configurando rótulos dos eixos\n",
    "plt.xlabel(\"Espécies\")\n",
    "plt.ylabel(\"Contagem\")\n",
    "\n",
    "# Configurando o título do gráfico\n",
    "plt.title(\"Contagem de Espécies\")\n",
    "\n",
    "# Exibindo o gráfico\n",
    "plt.show()"
   ]
  },
  {
   "cell_type": "code",
   "execution_count": 11,
   "metadata": {},
   "outputs": [
    {
     "name": "stdout",
     "output_type": "stream",
     "text": [
      "Variáveis: ['Torgersen' 'Biscoe' 'Dream']\n"
     ]
    }
   ],
   "source": [
    "# Análise da variável `island`\n",
    "print(\"Variáveis:\", df_penguins['island'].unique())"
   ]
  },
  {
   "cell_type": "code",
   "execution_count": 12,
   "metadata": {},
   "outputs": [
    {
     "data": {
      "image/png": "[encoded data removed]",
      "text/plain": [
       "<Figure size 600x400 with 1 Axes>"
      ]
     },
     "metadata": {},
     "output_type": "display_data"
    }
   ],
   "source": [
    "#__________________________________________________________________________________\n",
    "# Cria um gráfico de barras que mostra a distribuição das diferentes ilhas \n",
    "# na coluna 'island' do DataFrame `df_penguins`.\n",
    "#__________________________________________________________________________________\n",
    "\n",
    "sns.set(style=\"whitegrid\")\n",
    "\n",
    "plt.figure(figsize=(6, 4)) \n",
    "\n",
    "sns.countplot(data=df_penguins, x=\"island\", color='green')\n",
    "\n",
    "plt.xlabel(\"Ilha\")\n",
    "plt.ylabel(\"Contagem\")\n",
    "\n",
    "plt.title(\"Contagem de Ilhas\")\n",
    "\n",
    "plt.title(\"Contagem de Ilhas\")\n",
    "\n",
    "plt.show()"
   ]
  },
  {
   "cell_type": "code",
   "execution_count": 13,
   "metadata": {},
   "outputs": [
    {
     "name": "stdout",
     "output_type": "stream",
     "text": [
      "Variáveis: ['Male' 'Female' nan]\n"
     ]
    }
   ],
   "source": [
    "# Análise da variável `sex`\n",
    "print(\"Variáveis:\", df_penguins['sex'].unique())"
   ]
  },
  {
   "cell_type": "code",
   "execution_count": 14,
   "metadata": {},
   "outputs": [
    {
     "data": {
      "image/png": "[encoded data removed]",
      "text/plain": [
       "<Figure size 600x400 with 1 Axes>"
      ]
     },
     "metadata": {},
     "output_type": "display_data"
    }
   ],
   "source": [
    "#__________________________________________________________________________________\n",
    "# Cria um gráfico de barras que mostra a distribuição das diferentes categorias\n",
    "# na coluna 'sex' do DataFrame `df_penguins`.\n",
    "#__________________________________________________________________________________\n",
    "\n",
    "sns.set(style=\"whitegrid\")\n",
    "\n",
    "plt.figure(figsize=(6, 4))  \n",
    "\n",
    "sns.countplot(data=df_penguins, x=\"sex\", color='green')\n",
    "\n",
    "plt.xlabel(\"Gênero\")\n",
    "plt.ylabel(\"Contagem\")\n",
    "\n",
    "plt.title(\"Contagem de Gênero\")\n",
    "\n",
    "plt.show()"
   ]
  },
  {
   "cell_type": "markdown",
   "metadata": {},
   "source": [
    "### Visualização dos dados quatitativos\n",
    "* Dados quatitativos das variáveis - **(bill_length_mm, bill_depth_mm, flipper_length_mm)**\n",
    "* Descrevendo e calculando os dados usando **estatística de tendência central e dispersão**."
   ]
  },
  {
   "cell_type": "code",
   "execution_count": 15,
   "metadata": {},
   "outputs": [
    {
     "name": "stdout",
     "output_type": "stream",
     "text": [
      "Média: 43.92\n",
      "Mediana: 44.45\n",
      "Moda: 41.10\n",
      "Amplitude: 27.50\n",
      "Variância: 29.81\n",
      "Desvio Padrão: 5.46\n"
     ]
    }
   ],
   "source": [
    "# Calcular as estatísticas\n",
    "media = df_penguins['bill_length_mm'].mean()\n",
    "mediana = df_penguins['bill_length_mm'].median()\n",
    "moda = df_penguins['bill_length_mm'].mode().values[0]\n",
    "amplitude = df_penguins['bill_length_mm'].max() - df_penguins['bill_length_mm'].min()\n",
    "variancia = df_penguins['bill_length_mm'].var()\n",
    "desvio_padrao = df_penguins['bill_length_mm'].std()\n",
    "\n",
    "# Formatar as estatísticas\n",
    "media_formatada = f'{media:.2f}'\n",
    "mediana_formatada = f'{mediana:.2f}'\n",
    "moda_formatada = f'{moda:.2f}'\n",
    "amplitude_formatada = f'{amplitude:.2f}'\n",
    "variancia_formatada = f'{variancia:.2f}'\n",
    "desvio_padrao_formatado = f'{desvio_padrao:.2f}'\n",
    "\n",
    "# Exibir as estatísticas formatadas\n",
    "print(\"Média:\", media_formatada)\n",
    "print(\"Mediana:\", mediana_formatada)\n",
    "print(\"Moda:\", moda_formatada)\n",
    "print(\"Amplitude:\", amplitude_formatada)\n",
    "print(\"Variância:\", variancia_formatada)\n",
    "print(\"Desvio Padrão:\", desvio_padrao_formatado)"
   ]
  },
  {
   "cell_type": "code",
   "execution_count": 17,
   "metadata": {},
   "outputs": [
    {
     "name": "stdout",
     "output_type": "stream",
     "text": [
      "Média: 17.15\n",
      "Mediana: 17.30\n",
      "Moda: 17.00\n",
      "Amplitude: 8.40\n",
      "Variância: 3.90\n",
      "Desvio Padrão: 1.97\n"
     ]
    }
   ],
   "source": [
    "media = df_penguins['bill_depth_mm'].mean()\n",
    "mediana = df_penguins['bill_depth_mm'].median()\n",
    "moda = df_penguins['bill_depth_mm'].mode().values[0]\n",
    "amplitude = df_penguins['bill_depth_mm'].max() - df_penguins['bill_depth_mm'].min()\n",
    "variancia = df_penguins['bill_depth_mm'].var()\n",
    "desvio_padrao = df_penguins['bill_depth_mm'].std()\n",
    "\n",
    "media_formatada = f'{media:.2f}'\n",
    "mediana_formatada = f'{mediana:.2f}'\n",
    "moda_formatada = f'{moda:.2f}'\n",
    "amplitude_formatada = f'{amplitude:.2f}'\n",
    "variancia_formatada = f'{variancia:.2f}'\n",
    "desvio_padrao_formatado = f'{desvio_padrao:.2f}'\n",
    "\n",
    "print(\"Média:\", media_formatada)\n",
    "print(\"Mediana:\", mediana_formatada)\n",
    "print(\"Moda:\", moda_formatada)\n",
    "print(\"Amplitude:\", amplitude_formatada)\n",
    "print(\"Variância:\", variancia_formatada)\n",
    "print(\"Desvio Padrão:\", desvio_padrao_formatado)"
   ]
  },
  {
   "cell_type": "code",
   "execution_count": 18,
   "metadata": {},
   "outputs": [
    {
     "name": "stdout",
     "output_type": "stream",
     "text": [
      "Média: 200.92\n",
      "Mediana: 197.00\n",
      "Moda: 190.00\n",
      "Amplitude: 59.00\n",
      "Variância: 197.73\n",
      "Desvio Padrão: 14.06\n"
     ]
    }
   ],
   "source": [
    "media = df_penguins['flipper_length_mm'].mean()\n",
    "mediana = df_penguins['flipper_length_mm'].median()\n",
    "moda = df_penguins['flipper_length_mm'].mode().values[0]\n",
    "amplitude = df_penguins['flipper_length_mm'].max() - df_penguins['flipper_length_mm'].min()\n",
    "variancia = df_penguins['flipper_length_mm'].var()\n",
    "desvio_padrao = df_penguins['flipper_length_mm'].std()\n",
    "\n",
    "media_formatada = f'{media:.2f}'\n",
    "mediana_formatada = f'{mediana:.2f}'\n",
    "moda_formatada = f'{moda:.2f}'\n",
    "amplitude_formatada = f'{amplitude:.2f}'\n",
    "variancia_formatada = f'{variancia:.2f}'\n",
    "desvio_padrao_formatado = f'{desvio_padrao:.2f}'\n",
    "\n",
    "print(\"Média:\", media_formatada)\n",
    "print(\"Mediana:\", mediana_formatada)\n",
    "print(\"Moda:\", moda_formatada)\n",
    "print(\"Amplitude:\", amplitude_formatada)\n",
    "print(\"Variância:\", variancia_formatada)\n",
    "print(\"Desvio Padrão:\", desvio_padrao_formatado)"
   ]
  },
  {
   "cell_type": "code",
   "execution_count": 19,
   "metadata": {},
   "outputs": [
    {
     "name": "stdout",
     "output_type": "stream",
     "text": [
      "Média: 4201.75\n",
      "Mediana: 4050.00\n",
      "Moda: 3800.00\n",
      "Amplitude: 3600.00\n",
      "Variância: 643131.08\n",
      "Desvio Padrão: 801.95\n"
     ]
    }
   ],
   "source": [
    "media = df_penguins['body_mass_g'].mean()\n",
    "mediana = df_penguins['body_mass_g'].median()\n",
    "moda = df_penguins['body_mass_g'].mode().values[0]\n",
    "amplitude = df_penguins['body_mass_g'].max() - df_penguins['body_mass_g'].min()\n",
    "variancia = df_penguins['body_mass_g'].var()\n",
    "desvio_padrao = df_penguins['body_mass_g'].std()\n",
    "\n",
    "media_formatada = f'{media:.2f}'\n",
    "mediana_formatada = f'{mediana:.2f}'\n",
    "moda_formatada = f'{moda:.2f}'\n",
    "amplitude_formatada = f'{amplitude:.2f}'\n",
    "variancia_formatada = f'{variancia:.2f}'\n",
    "desvio_padrao_formatado = f'{desvio_padrao:.2f}'\n",
    "\n",
    "print(\"Média:\", media_formatada)\n",
    "print(\"Mediana:\", mediana_formatada)\n",
    "print(\"Moda:\", moda_formatada)\n",
    "print(\"Amplitude:\", amplitude_formatada)\n",
    "print(\"Variância:\", variancia_formatada)\n",
    "print(\"Desvio Padrão:\", desvio_padrao_formatado)"
   ]
  },
  {
   "cell_type": "markdown",
   "metadata": {},
   "source": [
    "## **Observações:**\n",
    "\n",
    "Estatísticas de tendência central e dispersão são medidas descritivas utilizadas na estatística para resumir e descrever conjuntos de dados. Elas fornecem informações importantes sobre a distribuição dos dados e ajudam a entender como os valores estão agrupados ou dispersos.\n",
    "\n",
    "### **Estatísticas de Tendência Central:**\n",
    "\n",
    "**Média (Média Aritmética):** A média é a medida mais comum de tendência central. É calculada somando todos os valores em um conjunto de dados e dividindo pelo número de observações. A média representa o valor \"típico\" dos dados.\n",
    "\n",
    "**Mediana:** A mediana é o valor que divide o conjunto de dados ao meio quando eles estão ordenados em ordem crescente. Ou seja, metade dos valores são menores que a mediana e metade são maiores. Ela é menos sensível a valores extremos do que a média.\n",
    "\n",
    "**Moda:** A moda é o valor que ocorre com mais frequência em um conjunto de dados. Pode haver mais de uma moda em um conjunto de dados, tornando-o bimodal ou multimodal.\n",
    "\n",
    "### **Estatísticas de Dispersão (Variabilidade):**\n",
    "\n",
    "**Amplitude:** A amplitude é a diferença entre o maior e o menor valor em um conjunto de dados. Ela fornece uma medida simples da extensão dos dados, mas pode ser sensível a valores extremos.\n",
    "\n",
    "**Variância:** A variância mede a dispersão dos dados em relação à média. Valores mais altos de variância indicam maior dispersão. É calculada como a média dos quadrados das diferenças entre cada valor e a média.\n",
    "\n",
    "**Desvio Padrão:** O desvio padrão é a raiz quadrada da variância. Ele fornece uma medida da dispersão dos dados em relação à média, na mesma unidade de medida dos dados. É uma medida de dispersão mais comumente usada.\n",
    "\n",
    "**Intervalo Interquartil (IQR):** O IQR é a diferença entre o primeiro quartil (25º percentil) e o terceiro quartil (75º percentil) dos dados. Ele fornece uma medida da dispersão dos dados na região central da distribuição e é menos sensível a valores extremos do que a amplitude.\n",
    "\n",
    "Essas medidas de tendência central e dispersão são essenciais para resumir a informação contida em um conjunto de dados, facilitando a compreensão da sua distribuição e a identificação de padrões ou valores atípicos. Elas são amplamente usadas em estatística descritiva e em análises estatísticas para extrair informações úteis e insights dos dados.\n",
    "\n",
    "**Fonte:** ChatGPT\n",
    "\n",
    "\n"
   ]
  }
 ],
 "metadata": {
  "kernelspec": {
   "display_name": "Python 3 (ipykernel)",
   "language": "python",
   "name": "python3"
  },
  "language_info": {
   "codemirror_mode": {
    "name": "ipython",
    "version": 3
   },
   "file_extension": ".py",
   "mimetype": "text/x-python",
   "name": "python",
   "nbconvert_exporter": "python",
   "pygments_lexer": "ipython3",
   "version": "3.8.10"
  }
 },
 "nbformat": 4,
 "nbformat_minor": 2
}
