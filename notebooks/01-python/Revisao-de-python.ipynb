{
 "cells": [
  {
   "cell_type": "markdown",
   "id": "717b1bcc",
   "metadata": {},
   "source": [
    "# EXERCÍCIOS EM PYTHON"
   ]
  },
  {
   "cell_type": "markdown",
   "id": "df1caf40",
   "metadata": {},
   "source": [
    "## | Variáveis e Operadores |"
   ]
  },
  {
   "cell_type": "markdown",
   "id": "b4aeaa34",
   "metadata": {},
   "source": [
    "### - Crie um programa que leia dois números inteiros e imprima a soma, subtração, multiplicação e divisão entre eles."
   ]
  },
  {
   "cell_type": "code",
   "execution_count": 1,
   "id": "89fdc9a1",
   "metadata": {},
   "outputs": [
    {
     "name": "stdout",
     "output_type": "stream",
     "text": [
      "Digite o primeiro número inteiro: 10\n",
      "Digite o segundo número inteiro: 8\n",
      "Soma: 18\n",
      "Subtração: 2\n",
      "Multiplicação: 80\n",
      "Divisão: 1.25\n"
     ]
    }
   ],
   "source": [
    "def main():\n",
    "    \n",
    "    num1 = int(input(\"Digite o primeiro número inteiro: \"))\n",
    "    num2 = int(input(\"Digite o segundo número inteiro: \"))\n",
    "\n",
    "    soma = num1 + num2\n",
    "    subtracao = num1 - num2\n",
    "    multiplicacao = num1 * num2\n",
    "\n",
    "    if num2 != 0:\n",
    "        divisao = num1 / num2\n",
    "    else:\n",
    "        divisao = \"Não é possível divisão por zero!\"\n",
    "   \n",
    "    print(f\"Soma: {soma}\")\n",
    "    print(f\"Subtração: {subtracao}\")\n",
    "    print(f\"Multiplicação: {multiplicacao}\")\n",
    "    print(f\"Divisão: {divisao}\")\n",
    "\n",
    "if __name__ == \"__main__\":\n",
    "    main()"
   ]
  },
  {
   "cell_type": "markdown",
   "id": "797e3e1f",
   "metadata": {},
   "source": [
    "### - Escreva um programa que calcule a área de um círculo, solicitando o raio do usuário."
   ]
  },
  {
   "cell_type": "code",
   "execution_count": 2,
   "id": "448074d8",
   "metadata": {},
   "outputs": [
    {
     "name": "stdout",
     "output_type": "stream",
     "text": [
      "Digite o raio do círculo: 5\n",
      "A área do círculo com raio 5.0 é 78.54\n"
     ]
    }
   ],
   "source": [
    "import math\n",
    "\n",
    "def main():\n",
    "    raio = float(input(\"Digite o raio do círculo: \"))\n",
    "    area = math.pi * raio * raio\n",
    "    print(f\"A área do círculo com raio {raio} é {area:.2f}\")\n",
    "\n",
    "if __name__ == \"__main__\":\n",
    "    main()\n",
    "    "
   ]
  },
  {
   "cell_type": "markdown",
   "id": "b9ae03b6",
   "metadata": {},
   "source": [
    "## | Estruturas de Seleção e Repetição |"
   ]
  },
  {
   "cell_type": "markdown",
   "id": "660782f3",
   "metadata": {},
   "source": [
    "### - Escreva um programa que solicite a idade do usuário e imprima se ele é menor de idade (menor que 18 anos) ou maior de idade."
   ]
  },
  {
   "cell_type": "code",
   "execution_count": 8,
   "id": "d8a1e0f3",
   "metadata": {},
   "outputs": [
    {
     "name": "stdout",
     "output_type": "stream",
     "text": [
      "Digite sua idade: 30\n",
      "Maior de idade!\n"
     ]
    }
   ],
   "source": [
    "def main():\n",
    "\n",
    "    idade = int(input(\"Digite sua idade: \"))\n",
    "\n",
    "    if(idade < 18):\n",
    "        print(\"Menor de idade!\")\n",
    "    else:\n",
    "        print(\"Maior de idade!\")\n",
    "\n",
    "if __name__ == \"__main__\":\n",
    "    main()"
   ]
  },
  {
   "cell_type": "markdown",
   "id": "8156873c",
   "metadata": {},
   "source": [
    "### - Crie um programa que peça ao usuário para adivinhar um número secreto entre 1 e 100. O programa deve fornecer dicas se o palpite do usuário é maior ou menor que número secreto, até que ele adivinhe corretamente."
   ]
  },
  {
   "cell_type": "code",
   "execution_count": 9,
   "id": "0bba5c9a",
   "metadata": {},
   "outputs": [
    {
     "name": "stdout",
     "output_type": "stream",
     "text": [
      "==================================================\n",
      "             JOGO DE ADIVINHAÇÃO                  \n",
      "[Procure adivinhar o número secreto entre 1 e 100]\n",
      "==================================================\n",
      "\n",
      "Digite o seu palpite do número secreto: 10\n",
      "------------------------------------------------\n",
      "   O número secreto é menor. Tente novamente!   \n",
      "------------------------------------------------\n",
      "\n",
      "Digite o seu palpite do número secreto: 5\n",
      "------------------------------------------------\n",
      "   O número secreto é menor. Tente novamente!   \n",
      "------------------------------------------------\n",
      "\n",
      "Digite o seu palpite do número secreto: 2\n",
      "++++++++++++++++++++++++++++++++++++++++++++++++\n",
      "  O número secreto é maior. Tente novamente!    \n",
      "++++++++++++++++++++++++++++++++++++++++++++++++\n",
      "\n",
      "Digite o seu palpite do número secreto: 4\n",
      "\n",
      "****************************************************************\n",
      "Parabéns S2! Você acertou o número secreto 4 em 4 tentativas.\n",
      "****************************************************************\n"
     ]
    }
   ],
   "source": [
    "import random\n",
    "\n",
    "def main():\n",
    "\n",
    "    num_secreto = random.randint(1, 100)\n",
    "    tentativas = 0\n",
    "\n",
    "    print(\"==================================================\")\n",
    "    print(\"             JOGO DE ADIVINHAÇÃO                  \")\n",
    "    print(\"[Procure adivinhar o número secreto entre 1 e 100]\")\n",
    "    print(\"==================================================\")\n",
    "   \n",
    "\n",
    "    while True:\n",
    "        print(\"\")\n",
    "        palpite = int(input(\"Digite o seu palpite do número secreto: \"))\n",
    "        tentativas += 1\n",
    "\n",
    "        if(palpite < num_secreto):\n",
    "            print(\"++++++++++++++++++++++++++++++++++++++++++++++++\")\n",
    "            print(\"  O número secreto é maior. Tente novamente!    \")\n",
    "            print(\"++++++++++++++++++++++++++++++++++++++++++++++++\")\n",
    "\n",
    "        elif(palpite > num_secreto):\n",
    "            print(\"------------------------------------------------\")\n",
    "            print(\"   O número secreto é menor. Tente novamente!   \")\n",
    "            print(\"------------------------------------------------\")\n",
    "        else:\n",
    "            print(\"\")\n",
    "            print(\"****************************************************************\")\n",
    "            print(f\"Parabéns S2! Você acertou o número secreto {num_secreto} em {tentativas} tentativas.\")\n",
    "            print(\"****************************************************************\")\n",
    "            break\n",
    "\n",
    "if __name__ == \"__main__\":\n",
    "    main()"
   ]
  },
  {
   "cell_type": "markdown",
   "id": "b17a372a",
   "metadata": {},
   "source": [
    "## | Coleções (Listas, Tuplas, Conjuntos) |"
   ]
  },
  {
   "cell_type": "markdown",
   "id": "e7f58282",
   "metadata": {},
   "source": [
    "### Escreva um programa que crie uma lista de 5 números inteiros e imprima os elementos dessa lista."
   ]
  },
  {
   "cell_type": "code",
   "execution_count": 10,
   "id": "0413f4e8",
   "metadata": {},
   "outputs": [
    {
     "name": "stdout",
     "output_type": "stream",
     "text": [
      "Todos os elementos da lista:\n",
      "10\n",
      "25\n",
      "38\n",
      "42\n",
      "51\n"
     ]
    }
   ],
   "source": [
    "def main():\n",
    "\n",
    "    numeros = [10, 25, 38, 42, 51]\n",
    "\n",
    "    print(\"Todos os elementos da lista:\")\n",
    "    for num in numeros:\n",
    "        print(num)\n",
    "\n",
    "if __name__ == '__main__':\n",
    "    main()"
   ]
  },
  {
   "cell_type": "markdown",
   "id": "5eb8c125",
   "metadata": {},
   "source": [
    "### - Crie uma tupla com os nomes de alguns animais. Em seguida, peça ao usuário para digitar o nome de um animal e verifique se ele está presente na tupla."
   ]
  },
  {
   "cell_type": "code",
   "execution_count": 14,
   "id": "5f0f0685",
   "metadata": {},
   "outputs": [
    {
     "name": "stdout",
     "output_type": "stream",
     "text": [
      "Digite um nome de um animal (Ex.: gato): leão\n",
      "O animal leão está na lista\n"
     ]
    }
   ],
   "source": [
    "def main():\n",
    "\n",
    "    animais = (\"gato\", \"periquito\", \"cachorro\", \"leão\")\n",
    "\n",
    "\n",
    "    animal_informado = input(\"Digite um nome de um animal (Ex.: gato): \")\n",
    "\n",
    "    if animal_informado in animais:\n",
    "        print(f\"O animal {animal_informado} está na lista\")\n",
    "\n",
    "    else:\n",
    "        print(f\"O animal {animal_informado} não está na lista\")\n",
    "\n",
    "if __name__ == \"__main__\":\n",
    "    main()"
   ]
  },
  {
   "cell_type": "markdown",
   "id": "85f9c9a0",
   "metadata": {},
   "source": [
    "## | Reutilização de Código (Funções e Módulos) |"
   ]
  },
  {
   "cell_type": "markdown",
   "id": "0dab1214",
   "metadata": {},
   "source": [
    "### - Escreva uma função que receba o nome de uma pessoa como argumento e imprima uma mensagem de saudação."
   ]
  },
  {
   "cell_type": "code",
   "execution_count": 15,
   "id": "2682ae50",
   "metadata": {},
   "outputs": [
    {
     "name": "stdout",
     "output_type": "stream",
     "text": [
      "Digite seu nome: Deigela\n",
      "Olá Deigela! Como posso ajudar você?\n"
     ]
    }
   ],
   "source": [
    "def receba_nome(nome):\n",
    "    print(f\"Olá {nome}! Como posso ajudar você?\")\n",
    "\n",
    "nome_pessoa = input(\"Digite seu nome: \")\n",
    "receba_nome(nome_pessoa)"
   ]
  },
  {
   "cell_type": "markdown",
   "id": "0bbb816a",
   "metadata": {},
   "source": [
    "### - Implemente um módulo contendo uma função que verifique se um número é primo."
   ]
  },
  {
   "cell_type": "code",
   "execution_count": 20,
   "id": "bc10d2f0",
   "metadata": {},
   "outputs": [
    {
     "name": "stdout",
     "output_type": "stream",
     "text": [
      "Digite um número inteiro: 17\n",
      "17 é um número primo.\n"
     ]
    }
   ],
   "source": [
    "def eh_primo(numero):\n",
    "    if (numero <= 1):\n",
    "        return False\n",
    "    #     \n",
    "    for i in range(2, numero):\n",
    "        if numero % i == 0:\n",
    "            return False\n",
    "    \n",
    "    return True\n",
    "\n",
    "def main():\n",
    "\n",
    "    numero = int(input(\"Digite um número inteiro: \"))\n",
    "\n",
    "    if eh_primo(numero):\n",
    "        print(f\"{numero} é um número primo.\")\n",
    "    else:\n",
    "        print(f\"{numero} não é um número primo.\")\n",
    "\n",
    "\n",
    "if __name__ == \"__main__\":\n",
    "    main()"
   ]
  }
 ],
 "metadata": {
  "kernelspec": {
   "display_name": "Python 3 (ipykernel)",
   "language": "python",
   "name": "python3"
  },
  "language_info": {
   "codemirror_mode": {
    "name": "ipython",
    "version": 3
   },
   "file_extension": ".py",
   "mimetype": "text/x-python",
   "name": "python",
   "nbconvert_exporter": "python",
   "pygments_lexer": "ipython3",
   "version": "3.10.12"
  }
 },
 "nbformat": 4,
 "nbformat_minor": 5
}
