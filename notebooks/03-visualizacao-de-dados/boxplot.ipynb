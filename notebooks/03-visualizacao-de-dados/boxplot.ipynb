{
 "cells": [
  {
   "cell_type": "markdown",
   "id": "7cba0051",
   "metadata": {},
   "source": [
    "# EXERCÍCIO SOBRE VISUALIZAÇÃO DE DADOS"
   ]
  },
  {
   "cell_type": "markdown",
   "id": "4389d2ed",
   "metadata": {},
   "source": [
    "### - Criar um gráfico de caixas para visualizar a quantidade total da conta em relação ao dia da semana."
   ]
  },
  {
   "cell_type": "code",
   "execution_count": 1,
   "id": "c4ed4bda",
   "metadata": {},
   "outputs": [],
   "source": [
    "# Carregando as bibliotecas necessárias para execução da prática.\n",
    "from matplotlib import pyplot as plt\n",
    "import seaborn as sns\n",
    "import pandas as pd"
   ]
  },
  {
   "cell_type": "code",
   "execution_count": null,
   "id": "36eb7bd5",
   "metadata": {},
   "outputs": [],
   "source": []
  },
  {
   "cell_type": "code",
   "execution_count": null,
   "id": "cae106ad",
   "metadata": {},
   "outputs": [],
   "source": []
  },
  {
   "cell_type": "code",
   "execution_count": null,
   "id": "109884e9",
   "metadata": {},
   "outputs": [],
   "source": []
  },
  {
   "cell_type": "code",
   "execution_count": null,
   "id": "7aaedb05",
   "metadata": {},
   "outputs": [],
   "source": []
  },
  {
   "cell_type": "code",
   "execution_count": null,
   "id": "3b78a849",
   "metadata": {},
   "outputs": [],
   "source": []
  }
 ],
 "metadata": {
  "kernelspec": {
   "display_name": "Python 3 (ipykernel)",
   "language": "python",
   "name": "python3"
  },
  "language_info": {
   "codemirror_mode": {
    "name": "ipython",
    "version": 3
   },
   "file_extension": ".py",
   "mimetype": "text/x-python",
   "name": "python",
   "nbconvert_exporter": "python",
   "pygments_lexer": "ipython3",
   "version": "3.10.12"
  }
 },
 "nbformat": 4,
 "nbformat_minor": 5
}
